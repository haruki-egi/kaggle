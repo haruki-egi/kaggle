{
  "nbformat": 4,
  "nbformat_minor": 0,
  "metadata": {
    "colab": {
      "name": "kaggle_titanic.ipynb",
      "provenance": [],
      "collapsed_sections": [],
      "mount_file_id": "1OE4JJJkWIdieX8fFJQGqHl7ZE8LTQm6h",
      "authorship_tag": "ABX9TyN61Hz+1jPrA5AzdRFxmdMR"
    },
    "kernelspec": {
      "name": "python3",
      "display_name": "Python 3"
    },
    "language_info": {
      "name": "python"
    }
  },
  "cells": [
    {
      "cell_type": "code",
      "metadata": {
        "id": "3j0YFxWDtYW3"
      },
      "source": [
        "import numpy as np\n",
        "import pandas as pd\n",
        " \n",
        "#CSV読み込み\n",
        "train_data = pd.read_csv(\"/content/drive/MyDrive/kaggle/titanic/train.csv\")\n",
        "test_data = pd.read_csv(\"/content/drive/MyDrive/kaggle/titanic/test.csv\")"
      ],
      "execution_count": 1,
      "outputs": []
    },
    {
      "cell_type": "code",
      "metadata": {
        "colab": {
          "base_uri": "https://localhost:8080/"
        },
        "id": "am-xLa0Iyn3V",
        "outputId": "41b3fa41-21f9-4283-b6de-44a2f6c7a529"
      },
      "source": [
        "print(train_data)"
      ],
      "execution_count": 2,
      "outputs": [
        {
          "output_type": "stream",
          "text": [
            "     PassengerId  Survived  Pclass  ...     Fare Cabin  Embarked\n",
            "0              1         0       3  ...   7.2500   NaN         S\n",
            "1              2         1       1  ...  71.2833   C85         C\n",
            "2              3         1       3  ...   7.9250   NaN         S\n",
            "3              4         1       1  ...  53.1000  C123         S\n",
            "4              5         0       3  ...   8.0500   NaN         S\n",
            "..           ...       ...     ...  ...      ...   ...       ...\n",
            "886          887         0       2  ...  13.0000   NaN         S\n",
            "887          888         1       1  ...  30.0000   B42         S\n",
            "888          889         0       3  ...  23.4500   NaN         S\n",
            "889          890         1       1  ...  30.0000  C148         C\n",
            "890          891         0       3  ...   7.7500   NaN         Q\n",
            "\n",
            "[891 rows x 12 columns]\n"
          ],
          "name": "stdout"
        }
      ]
    },
    {
      "cell_type": "code",
      "metadata": {
        "colab": {
          "base_uri": "https://localhost:8080/"
        },
        "id": "twkl6gheypgR",
        "outputId": "a8b8af04-0f2c-4743-8cde-223456798b6a"
      },
      "source": [
        "print(train_data.columns.values)\n",
        "print(train_data[[\"Sex\"]])\n",
        "print(train_data[[\"Age\"]])"
      ],
      "execution_count": 3,
      "outputs": [
        {
          "output_type": "stream",
          "text": [
            "['PassengerId' 'Survived' 'Pclass' 'Name' 'Sex' 'Age' 'SibSp' 'Parch'\n",
            " 'Ticket' 'Fare' 'Cabin' 'Embarked']\n",
            "        Sex\n",
            "0      male\n",
            "1    female\n",
            "2    female\n",
            "3    female\n",
            "4      male\n",
            "..      ...\n",
            "886    male\n",
            "887  female\n",
            "888  female\n",
            "889    male\n",
            "890    male\n",
            "\n",
            "[891 rows x 1 columns]\n",
            "      Age\n",
            "0    22.0\n",
            "1    38.0\n",
            "2    26.0\n",
            "3    35.0\n",
            "4    35.0\n",
            "..    ...\n",
            "886  27.0\n",
            "887  19.0\n",
            "888   NaN\n",
            "889  26.0\n",
            "890  32.0\n",
            "\n",
            "[891 rows x 1 columns]\n"
          ],
          "name": "stdout"
        }
      ]
    },
    {
      "cell_type": "code",
      "metadata": {
        "colab": {
          "base_uri": "https://localhost:8080/"
        },
        "id": "vL4zx5mk29kk",
        "outputId": "e6348f3c-6a3d-43ee-e5e2-3d1a0aca9a1d"
      },
      "source": [
        "women = train_data.loc[train_data.Sex == 'female'][\"Survived\"]\n",
        "rate_women = sum(women)/len(women)\n",
        "\n",
        "print(\"% of women who survived:\", rate_women)"
      ],
      "execution_count": 4,
      "outputs": [
        {
          "output_type": "stream",
          "text": [
            "% of women who survived: 0.7420382165605095\n"
          ],
          "name": "stdout"
        }
      ]
    },
    {
      "cell_type": "code",
      "metadata": {
        "colab": {
          "base_uri": "https://localhost:8080/"
        },
        "id": "i7EGH9JN3WZq",
        "outputId": "bf7e56f7-cd1d-4651-d0f3-f8126e8e3e6f"
      },
      "source": [
        "men = train_data.loc[train_data.Sex == 'male'][\"Survived\"]\n",
        "rate_men = sum(men)/len(men)\n",
        "\n",
        "print(\"% of men who survived:\", rate_men)"
      ],
      "execution_count": 5,
      "outputs": [
        {
          "output_type": "stream",
          "text": [
            "% of men who survived: 0.18890814558058924\n"
          ],
          "name": "stdout"
        }
      ]
    },
    {
      "cell_type": "code",
      "metadata": {
        "colab": {
          "base_uri": "https://localhost:8080/"
        },
        "id": "3loIJlgt3Z9F",
        "outputId": "73c59d43-0e9c-401c-95f8-0f90487723ce"
      },
      "source": [
        "#ランダムフォレスト\n",
        "from sklearn.ensemble import RandomForestClassifier\n",
        "\n",
        "y = train_data[\"Survived\"]\n",
        "\n",
        "features = [\"Pclass\", \"Sex\", \"SibSp\", \"Parch\"]\n",
        "X = pd.get_dummies(train_data[features])\n",
        "X_test = pd.get_dummies(test_data[features])\n",
        "\n",
        "model = RandomForestClassifier(n_estimators=100, max_depth=5, random_state=1)\n",
        "model.fit(X, y)\n",
        "predictions = model.predict(X_test)\n",
        "\n",
        "output = pd.DataFrame({'PassengerId': test_data.PassengerId, 'Survived': predictions})\n",
        "print(output)"
      ],
      "execution_count": 9,
      "outputs": [
        {
          "output_type": "stream",
          "text": [
            "     PassengerId  Survived\n",
            "0            892         0\n",
            "1            893         1\n",
            "2            894         0\n",
            "3            895         0\n",
            "4            896         1\n",
            "..           ...       ...\n",
            "413         1305         0\n",
            "414         1306         1\n",
            "415         1307         0\n",
            "416         1308         0\n",
            "417         1309         0\n",
            "\n",
            "[418 rows x 2 columns]\n"
          ],
          "name": "stdout"
        }
      ]
    },
    {
      "cell_type": "code",
      "metadata": {
        "colab": {
          "base_uri": "https://localhost:8080/"
        },
        "id": "Am498IL9TvHc",
        "outputId": "2903f2f8-e098-4300-bcb9-d0ce7eb5dd1e"
      },
      "source": [
        "#y_test = test_data[\"Survived\"]\n",
        "print(test_data)\n",
        "print(test_data.columns.values)"
      ],
      "execution_count": 14,
      "outputs": [
        {
          "output_type": "stream",
          "text": [
            "     PassengerId  Pclass  ... Cabin Embarked\n",
            "0            892       3  ...   NaN        Q\n",
            "1            893       3  ...   NaN        S\n",
            "2            894       2  ...   NaN        Q\n",
            "3            895       3  ...   NaN        S\n",
            "4            896       3  ...   NaN        S\n",
            "..           ...     ...  ...   ...      ...\n",
            "413         1305       3  ...   NaN        S\n",
            "414         1306       1  ...  C105        C\n",
            "415         1307       3  ...   NaN        S\n",
            "416         1308       3  ...   NaN        S\n",
            "417         1309       3  ...   NaN        C\n",
            "\n",
            "[418 rows x 11 columns]\n",
            "['PassengerId' 'Pclass' 'Name' 'Sex' 'Age' 'SibSp' 'Parch' 'Ticket' 'Fare'\n",
            " 'Cabin' 'Embarked']\n"
          ],
          "name": "stdout"
        }
      ]
    },
    {
      "cell_type": "code",
      "metadata": {
        "colab": {
          "base_uri": "https://localhost:8080/"
        },
        "id": "hzYp1mQ3SwRK",
        "outputId": "3ade6a63-568b-4aa5-a6fc-fe4d0746a56c"
      },
      "source": [
        "from sklearn.linear_model import LogisticRegression\n",
        "from sklearn.metrics import accuracy_score, roc_auc_score, confusion_matrix, precision_score, recall_score\n",
        " \n",
        "# ロジスティクス回帰\n",
        "lr = LogisticRegression()\n",
        "lr.fit(X, y)\n",
        "prediction=lr.predict(X_test)\n",
        "output = pd.DataFrame({'PassengerId': test_data.PassengerId, 'Survived': prediction})\n",
        "print(output)"
      ],
      "execution_count": 16,
      "outputs": [
        {
          "output_type": "stream",
          "text": [
            "     PassengerId  Survived\n",
            "0            892         0\n",
            "1            893         1\n",
            "2            894         0\n",
            "3            895         0\n",
            "4            896         1\n",
            "..           ...       ...\n",
            "413         1305         0\n",
            "414         1306         1\n",
            "415         1307         0\n",
            "416         1308         0\n",
            "417         1309         0\n",
            "\n",
            "[418 rows x 2 columns]\n"
          ],
          "name": "stdout"
        }
      ]
    },
    {
      "cell_type": "code",
      "metadata": {
        "id": "OsZBLQpR1K9R"
      },
      "source": [
        ""
      ],
      "execution_count": null,
      "outputs": []
    }
  ]
}